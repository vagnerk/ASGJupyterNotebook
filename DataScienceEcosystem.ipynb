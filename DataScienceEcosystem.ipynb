{
 "cells": [
  {
   "cell_type": "markdown",
   "id": "569e4dcf",
   "metadata": {},
   "source": [
    "#Data Science Tools and Ecosystem"
   ]
  },
  {
   "cell_type": "markdown",
   "id": "5c3e55a0",
   "metadata": {},
   "source": []
  },
  {
   "cell_type": "markdown",
   "id": "91045722",
   "metadata": {},
   "source": [
    "Some of the popular languages that Data Scientists use are:"
   ]
  },
  {
   "cell_type": "markdown",
   "id": "6e8b03c7",
   "metadata": {},
   "source": [
    "In this notebook, Data Science Tools and Ecosystem are summarized"
   ]
  },
  {
   "cell_type": "markdown",
   "id": "a862713b",
   "metadata": {},
   "source": [
    "Objectives:"
   ]
  },
  {
   "cell_type": "markdown",
   "id": "6cf9bb76",
   "metadata": {},
   "source": [
    "- Python\n",
    "- SQL\n",
    "- Java\n",
    "- C++"
   ]
  },
  {
   "cell_type": "markdown",
   "id": "3a861d42",
   "metadata": {},
   "source": [
    "Some of the popular languages that Data Scientists use are:"
   ]
  },
  {
   "cell_type": "markdown",
   "id": "3b9a6bdd",
   "metadata": {},
   "source": [
    "1. Python\n",
    "2. SQL\n",
    "3. Java\n",
    "4. C++\n",
    "5. Scala\n"
   ]
  },
  {
   "cell_type": "markdown",
   "id": "1299e39e",
   "metadata": {},
   "source": [
    "Some of the commonly used libraries used by Data Scientists include:"
   ]
  },
  {
   "cell_type": "markdown",
   "id": "58212371",
   "metadata": {},
   "source": [
    "1. Pandas\n",
    "2. Numpy\n",
    "3. Seaborn\n",
    "4. Matplotlib"
   ]
  },
  {
   "cell_type": "markdown",
   "id": "047d1a99",
   "metadata": {},
   "source": [
    "|Data Science Tools|\n",
    "|------|\n",
    "|Jupyter notebook|\n",
    "|Jupyter Lab|\n",
    "|R Studio|"
   ]
  },
  {
   "cell_type": "markdown",
   "id": "bbee8fc2",
   "metadata": {},
   "source": [
    "Data Science Tools"
   ]
  },
  {
   "cell_type": "markdown",
   "id": "10cee86e",
   "metadata": {},
   "source": [
    "### Below are a few examples of evaluating arithmetic expressions in Python"
   ]
  },
  {
   "cell_type": "markdown",
   "id": "199910f9",
   "metadata": {},
   "source": [
    "|Data Science Tools|\n",
    "|Jupyter Notebook|\n",
    "|Jupyter Lab|\n",
    "|R Studio|"
   ]
  },
  {
   "cell_type": "markdown",
   "id": "1f4326f6",
   "metadata": {},
   "source": [
    "This a simple arithmetic expression to mutiply then add integers"
   ]
  },
  {
   "cell_type": "code",
   "execution_count": null,
   "id": "182cbce8",
   "metadata": {},
   "outputs": [],
   "source": []
  },
  {
   "cell_type": "code",
   "execution_count": 5,
   "id": "aaa2f4dc",
   "metadata": {},
   "outputs": [
    {
     "data": {
      "text/plain": [
       "17"
      ]
     },
     "execution_count": 5,
     "metadata": {},
     "output_type": "execute_result"
    }
   ],
   "source": [
    "(3*4)+5"
   ]
  },
  {
   "cell_type": "markdown",
   "id": "d6554e69",
   "metadata": {},
   "source": [
    "This will convert 200 minutes to hours by diving by 60"
   ]
  },
  {
   "cell_type": "code",
   "execution_count": 6,
   "id": "c4384663",
   "metadata": {},
   "outputs": [
    {
     "data": {
      "text/plain": [
       "3.3333333333333335"
      ]
     },
     "execution_count": 6,
     "metadata": {},
     "output_type": "execute_result"
    }
   ],
   "source": [
    "200/60"
   ]
  },
  {
   "cell_type": "markdown",
   "id": "3f01351d",
   "metadata": {},
   "source": [
    "# Author Vagner Ferreira"
   ]
  },
  {
   "cell_type": "code",
   "execution_count": null,
   "id": "d9ce6190",
   "metadata": {},
   "outputs": [],
   "source": []
  }
 ],
 "metadata": {
  "kernelspec": {
   "display_name": "Python 3 (ipykernel)",
   "language": "python",
   "name": "python3"
  },
  "language_info": {
   "codemirror_mode": {
    "name": "ipython",
    "version": 3
   },
   "file_extension": ".py",
   "mimetype": "text/x-python",
   "name": "python",
   "nbconvert_exporter": "python",
   "pygments_lexer": "ipython3",
   "version": "3.10.13"
  }
 },
 "nbformat": 4,
 "nbformat_minor": 5
}
